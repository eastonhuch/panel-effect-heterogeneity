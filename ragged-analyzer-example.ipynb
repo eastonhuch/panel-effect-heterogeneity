{
 "cells": [
  {
   "cell_type": "code",
   "execution_count": 1,
   "id": "b31b9465-f077-4947-aa4d-948b9df28d03",
   "metadata": {},
   "outputs": [],
   "source": [
    "from shared.simulators import ConstantEffectSimulator, ModeratedEffectSimulator, DataSimulator, EffectSimulatorCollection\n",
    "from shared.analyzers import IPWAnalyzer, SIPWAnalyzer, MetaAnalyzer\n",
    "from shared.ragged_analyzers import RaggedIPWAnalyzer, RaggedSIPWAnalyzer, RaggedMetaAnalyzer\n",
    "from shared.result_processors import Results\n",
    "from tqdm import trange\n",
    "import pandas as pd\n",
    "import numpy as np\n",
    "import matplotlib.pyplot as plt\n",
    "import copy"
   ]
  },
  {
   "cell_type": "code",
   "execution_count": 2,
   "id": "7bb8e206-4a82-4a65-9aae-418f52d32b1f",
   "metadata": {},
   "outputs": [],
   "source": [
    "N = 50\n",
    "T = 100\n",
    "effect_simulator = ModeratedEffectSimulator(\"Noisy Moderated Effects\", N, 1., 1., 0.3, 1., 0.2, epsilon_sd=1.)\n",
    "effect_simulator.sample_params()\n",
    "data_simulator = DataSimulator(N, T).simulate_history()\n",
    "data_simulator = data_simulator.simulate_a()\n",
    "data_simulator = data_simulator.simulate_effects(effect_simulator)\n",
    "ragged = False\n",
    "if ragged:\n",
    "    Ts = np.random.choice(np.arange(T//2, T), N)\n",
    "else:\n",
    "    Ts = np.array([T]*N)\n",
    "T_total = Ts.sum().astype(int)\n",
    "df = pd.DataFrame()\n",
    "X = np.zeros((T_total, 2))\n",
    "X_idx_start = 0\n",
    "for i in range(N):\n",
    "    T_i = Ts[i]\n",
    "    X_idx_end = X_idx_start + T_i\n",
    "    x = data_simulator.x[i, :T_i]\n",
    "    X_i = np.ones((T_i, 2))\n",
    "    X_i[:, 1] = x\n",
    "    X[X_idx_start:X_idx_end] = X_i.copy()\n",
    "    df_i = pd.DataFrame({\n",
    "        \"id\": [i]*T_i,\n",
    "        \"a\": data_simulator.a[i, :T_i],\n",
    "        \"p\": data_simulator.p[i, :T_i],\n",
    "        \"y\": data_simulator.y[i, :T_i]})\n",
    "    df = pd.concat([df, df_i], axis=0)\n",
    "    X_idx_start = X_idx_end\n",
    "df = df.reset_index()"
   ]
  },
  {
   "cell_type": "code",
   "execution_count": 3,
   "id": "efd8790f-f683-4625-a0f8-cee6461e80a6",
   "metadata": {},
   "outputs": [
    {
     "data": {
      "text/plain": [
       "array([[1., 1.],\n",
       "       [1., 1.],\n",
       "       [1., 1.],\n",
       "       [1., 1.],\n",
       "       [1., 1.],\n",
       "       [1., 1.],\n",
       "       [1., 1.],\n",
       "       [1., 1.],\n",
       "       [1., 1.],\n",
       "       [1., 1.],\n",
       "       [1., 1.],\n",
       "       [1., 1.],\n",
       "       [1., 1.],\n",
       "       [1., 1.],\n",
       "       [1., 1.],\n",
       "       [1., 1.],\n",
       "       [1., 1.],\n",
       "       [1., 1.],\n",
       "       [1., 1.],\n",
       "       [1., 1.],\n",
       "       [1., 1.],\n",
       "       [1., 1.],\n",
       "       [1., 1.],\n",
       "       [1., 1.],\n",
       "       [1., 1.],\n",
       "       [1., 1.],\n",
       "       [1., 1.],\n",
       "       [1., 1.],\n",
       "       [1., 1.],\n",
       "       [1., 1.],\n",
       "       [1., 1.],\n",
       "       [1., 1.],\n",
       "       [1., 1.],\n",
       "       [1., 1.],\n",
       "       [1., 1.],\n",
       "       [1., 1.],\n",
       "       [1., 1.],\n",
       "       [1., 1.],\n",
       "       [1., 1.],\n",
       "       [1., 1.],\n",
       "       [1., 1.],\n",
       "       [1., 1.],\n",
       "       [1., 1.],\n",
       "       [1., 1.],\n",
       "       [1., 1.],\n",
       "       [1., 1.],\n",
       "       [1., 1.],\n",
       "       [1., 1.],\n",
       "       [1., 1.],\n",
       "       [1., 1.]])"
      ]
     },
     "execution_count": 3,
     "metadata": {},
     "output_type": "execute_result"
    }
   ],
   "source": [
    "robust = True\n",
    "dr = True\n",
    "\n",
    "# ragged_analyzer = RaggedIPWAnalyzer(name=\"IPW\", dr=dr, robust=robust)\n",
    "ragged_analyzer = RaggedSIPWAnalyzer(name=\"SIPW\", dr=dr, robust=robust)\n",
    "# ragged_meta_analyzer = ragged_analyzer.fit(df, X)\n",
    "ragged_meta_analyzer = RaggedMetaAnalyzer(ragged_analyzer, name=\"Meta\")\n",
    "ragged_meta_analyzer.fit(df, X)\n",
    "\n",
    "# analyzer = IPWAnalyzer(name=\"IPW\", dr=dr, robust=robust)\n",
    "analyzer = SIPWAnalyzer(name=\"SIPW\", dr=dr, robust=robust)\n",
    "# meta_analysis_inferences = analyzer.get_theta_inferences(data_simulator)\n",
    "meta_analyzer = MetaAnalyzer(analyzer, name=\"Meta\")\n",
    "meta_analysis_inferences = meta_analyzer.get_theta_inferences(data_simulator)\n",
    "meta_analysis_inferences.theta_estimates / ragged_meta_analyzer.estimates"
   ]
  }
 ],
 "metadata": {
  "kernelspec": {
   "display_name": "Python 3 (ipykernel)",
   "language": "python",
   "name": "python3"
  },
  "language_info": {
   "codemirror_mode": {
    "name": "ipython",
    "version": 3
   },
   "file_extension": ".py",
   "mimetype": "text/x-python",
   "name": "python",
   "nbconvert_exporter": "python",
   "pygments_lexer": "ipython3",
   "version": "3.10.6"
  }
 },
 "nbformat": 4,
 "nbformat_minor": 5
}
