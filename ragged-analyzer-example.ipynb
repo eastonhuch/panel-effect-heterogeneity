{
 "cells": [
  {
   "cell_type": "markdown",
   "id": "f546d904-458b-4c89-ab9f-efd05c5ca5fe",
   "metadata": {},
   "source": [
    "# Imports"
   ]
  },
  {
   "cell_type": "code",
   "execution_count": 1,
   "id": "b31b9465-f077-4947-aa4d-948b9df28d03",
   "metadata": {},
   "outputs": [],
   "source": [
    "from shared.simulators import ModeratedEffectSimulator, DataSimulator\n",
    "from shared.ragged_analyzers import RaggedIPWAnalyzer, RaggedSIPWAnalyzer, RaggedMetaAnalyzer\n",
    "import pandas as pd\n",
    "import numpy as np\n",
    "import matplotlib.pyplot as plt\n",
    "np.random.seed(0)"
   ]
  },
  {
   "cell_type": "markdown",
   "id": "bee868ae-193d-4cd2-b9ac-1e41a1fa1e78",
   "metadata": {},
   "source": [
    "# Create Simulated Data Set"
   ]
  },
  {
   "cell_type": "code",
   "execution_count": 2,
   "id": "7bb8e206-4a82-4a65-9aae-418f52d32b1f",
   "metadata": {},
   "outputs": [],
   "source": [
    "# This section uses some functions from my simulation study to make a fake data set\n",
    "# In practice, you'll have your own data and need to make sure it has a similar structure (see cells below)\n",
    "N = 50\n",
    "T = 100\n",
    "effect_simulator = ModeratedEffectSimulator(\"Noisy Moderated Effects\", N, 1., 1., 0.3, 1., 0.2, epsilon_sd=1.)\n",
    "effect_simulator.sample_params()\n",
    "data_simulator = DataSimulator(N, T).simulate_history()\n",
    "data_simulator = data_simulator.simulate_effects(effect_simulator)\n",
    "data_simulator = data_simulator.simulate_a()\n",
    "ragged = False\n",
    "if ragged:\n",
    "    Ts = np.random.choice(np.arange(T//2, T), N)\n",
    "else:\n",
    "    Ts = np.array([T]*N)\n",
    "T_total = Ts.sum().astype(int)\n",
    "df = pd.DataFrame()\n",
    "X = np.zeros((T_total, 2))\n",
    "X_idx_start = 0\n",
    "for i in range(N):\n",
    "    T_i = Ts[i]\n",
    "    X_idx_end = X_idx_start + T_i\n",
    "    x = data_simulator.x[i, :T_i]\n",
    "    X_i = np.ones((T_i, 2))\n",
    "    X_i[:, 1] = x\n",
    "    X[X_idx_start:X_idx_end] = X_i.copy()\n",
    "    df_i = pd.DataFrame({\n",
    "        \"id\": [i]*T_i,\n",
    "        \"a\": data_simulator.a[i, :T_i],\n",
    "        \"p\": data_simulator.p[i, :T_i],\n",
    "        \"y\": data_simulator.y[i, :T_i]})\n",
    "    df = pd.concat([df, df_i], axis=0)\n",
    "    X_idx_start = X_idx_end\n",
    "df = df.reset_index(drop=True)"
   ]
  },
  {
   "cell_type": "code",
   "execution_count": 3,
   "id": "4fd68fb5-1b41-4df8-8d4e-7af735c67d33",
   "metadata": {},
   "outputs": [
    {
     "data": {
      "text/html": [
       "<div>\n",
       "<style scoped>\n",
       "    .dataframe tbody tr th:only-of-type {\n",
       "        vertical-align: middle;\n",
       "    }\n",
       "\n",
       "    .dataframe tbody tr th {\n",
       "        vertical-align: top;\n",
       "    }\n",
       "\n",
       "    .dataframe thead th {\n",
       "        text-align: right;\n",
       "    }\n",
       "</style>\n",
       "<table border=\"1\" class=\"dataframe\">\n",
       "  <thead>\n",
       "    <tr style=\"text-align: right;\">\n",
       "      <th></th>\n",
       "      <th>id</th>\n",
       "      <th>a</th>\n",
       "      <th>p</th>\n",
       "      <th>y</th>\n",
       "    </tr>\n",
       "  </thead>\n",
       "  <tbody>\n",
       "    <tr>\n",
       "      <th>0</th>\n",
       "      <td>0</td>\n",
       "      <td>True</td>\n",
       "      <td>0.445738</td>\n",
       "      <td>0.917141</td>\n",
       "    </tr>\n",
       "    <tr>\n",
       "      <th>1</th>\n",
       "      <td>0</td>\n",
       "      <td>False</td>\n",
       "      <td>0.674148</td>\n",
       "      <td>-3.191673</td>\n",
       "    </tr>\n",
       "    <tr>\n",
       "      <th>2</th>\n",
       "      <td>0</td>\n",
       "      <td>False</td>\n",
       "      <td>0.404605</td>\n",
       "      <td>-1.691779</td>\n",
       "    </tr>\n",
       "    <tr>\n",
       "      <th>3</th>\n",
       "      <td>0</td>\n",
       "      <td>True</td>\n",
       "      <td>0.464852</td>\n",
       "      <td>1.737700</td>\n",
       "    </tr>\n",
       "    <tr>\n",
       "      <th>4</th>\n",
       "      <td>0</td>\n",
       "      <td>False</td>\n",
       "      <td>0.541300</td>\n",
       "      <td>-4.214627</td>\n",
       "    </tr>\n",
       "  </tbody>\n",
       "</table>\n",
       "</div>"
      ],
      "text/plain": [
       "   id      a         p         y\n",
       "0   0   True  0.445738  0.917141\n",
       "1   0  False  0.674148 -3.191673\n",
       "2   0  False  0.404605 -1.691779\n",
       "3   0   True  0.464852  1.737700\n",
       "4   0  False  0.541300 -4.214627"
      ]
     },
     "execution_count": 3,
     "metadata": {},
     "output_type": "execute_result"
    }
   ],
   "source": [
    "# The data set you use should have at least the following columns (names may vary):\n",
    "# User ID, treatment indicator, treatment assignment probability, outcome\n",
    "df.head()"
   ]
  },
  {
   "cell_type": "code",
   "execution_count": 4,
   "id": "b35e5585-14dd-4678-af8b-eb2e3cc0668e",
   "metadata": {},
   "outputs": [
    {
     "data": {
      "text/plain": [
       "(5000, 4)"
      ]
     },
     "execution_count": 4,
     "metadata": {},
     "output_type": "execute_result"
    }
   ],
   "source": [
    "df.shape"
   ]
  },
  {
   "cell_type": "code",
   "execution_count": 5,
   "id": "0c144941-c3df-4299-a470-ae3b195003ae",
   "metadata": {},
   "outputs": [
    {
     "data": {
      "text/plain": [
       "array([[1.        , 0.56418574],\n",
       "       [1.        , 2.45401538],\n",
       "       [1.        , 0.2273746 ],\n",
       "       ...,\n",
       "       [1.        , 0.91165919],\n",
       "       [1.        , 1.65778115],\n",
       "       [1.        , 1.68343027]], shape=(5000, 2))"
      ]
     },
     "execution_count": 5,
     "metadata": {},
     "output_type": "execute_result"
    }
   ],
   "source": [
    "# X is a design matrix with rows corresponding to df\n",
    "X"
   ]
  },
  {
   "cell_type": "code",
   "execution_count": 6,
   "id": "f8fa1bb1-b653-40ce-8c66-b224a6ae0796",
   "metadata": {},
   "outputs": [
    {
     "data": {
      "text/plain": [
       "(5000, 2)"
      ]
     },
     "execution_count": 6,
     "metadata": {},
     "output_type": "execute_result"
    }
   ],
   "source": [
    "X.shape"
   ]
  },
  {
   "cell_type": "markdown",
   "id": "044e61e4-219e-4537-858c-879ad5120e08",
   "metadata": {},
   "source": [
    "# Fit Model"
   ]
  },
  {
   "cell_type": "code",
   "execution_count": 7,
   "id": "5a6dd2f2-9d27-47ea-9c33-bcdd3fab60eb",
   "metadata": {},
   "outputs": [],
   "source": [
    "# You can toggle the robust and dr options\n",
    "robust = True\n",
    "dr = False\n",
    "\n",
    "# Specify the correct column names for the subject ID, treatment, treatment assignment probability, and outcome\n",
    "ragged_analyzer = RaggedIPWAnalyzer(id_col=\"id\", treatment_col=\"a\", prob_col=\"p\", outcome_col=\"y\", dr=dr, robust=robust)\n",
    "ragged_analyzer = ragged_analyzer.fit(df, X)  # Fit to data"
   ]
  },
  {
   "cell_type": "code",
   "execution_count": 8,
   "id": "9c6d513e-34e1-4d75-8154-e6c2aaf64255",
   "metadata": {},
   "outputs": [
    {
     "name": "stdout",
     "output_type": "stream",
     "text": [
      "[[2.81453188 1.23800244]\n",
      " [3.51830662 0.73534775]\n",
      " [3.87480551 0.376229  ]]\n",
      "[[0.53190847 0.48065246]\n",
      " [0.57138246 0.43333245]\n",
      " [0.57085308 0.41765712]]\n"
     ]
    }
   ],
   "source": [
    "# Look at estimated effects and standard errors for first 3 users\n",
    "# The first entry is an intercept and the second is a slope corresponding to x\n",
    "# These are effectively causal excursion effects for each user\n",
    "print(ragged_analyzer.estimates[:3])\n",
    "print(ragged_analyzer.estimates_se[:3])"
   ]
  },
  {
   "cell_type": "code",
   "execution_count": 9,
   "id": "bb274877-7d61-4b7d-907b-b75f55dde274",
   "metadata": {},
   "outputs": [
    {
     "data": {
      "image/png": "[encoded data removed]",
      "text/plain": [
       "<Figure size 640x480 with 1 Axes>"
      ]
     },
     "metadata": {},
     "output_type": "display_data"
    }
   ],
   "source": [
    "# Plot the estimates\n",
    "plt.scatter(ragged_analyzer.estimates[:, 0], ragged_analyzer.estimates[:, 1])\n",
    "plt.xlabel(\"Intercept\")\n",
    "plt.ylabel(\"x Slope\")\n",
    "plt.title(\"Estimated Effects Across Users\")\n",
    "plt.show()"
   ]
  },
  {
   "cell_type": "code",
   "execution_count": 10,
   "id": "771a8cef-aeb2-4618-95fe-560dfcb3dc44",
   "metadata": {},
   "outputs": [
    {
     "data": {
      "image/png": "[encoded data removed]",
      "text/plain": [
       "<Figure size 640x480 with 1 Axes>"
      ]
     },
     "metadata": {},
     "output_type": "display_data"
    }
   ],
   "source": [
    "# Plot the slopes with error bars\n",
    "idx_sorted = np.argsort(ragged_analyzer.estimates[:, 1])\n",
    "plt.errorbar(\n",
    "    x=np.arange(N),\n",
    "    y=ragged_analyzer.estimates[idx_sorted, 1],\n",
    "    yerr=1.96 * ragged_analyzer.estimates_se[idx_sorted, 1])\n",
    "plt.xlabel(\"User Index (Resorted)\")\n",
    "plt.ylabel(\"Estimated Effect\")\n",
    "plt.title(\"Estimated Slopes for Each User\")\n",
    "plt.show()"
   ]
  },
  {
   "cell_type": "code",
   "execution_count": 11,
   "id": "0c96a9fb-dd70-4616-a525-6b086db7d17f",
   "metadata": {},
   "outputs": [
    {
     "name": "stdout",
     "output_type": "stream",
     "text": [
      "[[[ 0.28292662 -0.11642594]\n",
      "  [-0.11642594  0.23102679]]\n",
      "\n",
      " [[ 0.32647792 -0.14203229]\n",
      "  [-0.14203229  0.18777701]]\n",
      "\n",
      " [[ 0.32587324 -0.12560614]\n",
      "  [-0.12560614  0.17443747]]]\n"
     ]
    }
   ],
   "source": [
    "# You can also access the joint covariance matrix for the regression coefficients\n",
    "# NOTE: The estimates are independent across users\n",
    "print(ragged_analyzer.estimates_cov[:3])"
   ]
  },
  {
   "cell_type": "code",
   "execution_count": 12,
   "id": "eb71e901-72e8-4a0a-be64-48b95d7bb961",
   "metadata": {},
   "outputs": [],
   "source": [
    "# You can also fit a meta-analysis model\n",
    "ragged_meta_analyzer = RaggedMetaAnalyzer(ragged_analyzer, name=\"Meta\")\n",
    "ragged_meta_analyzer = ragged_meta_analyzer.fit(df, X)"
   ]
  },
  {
   "cell_type": "code",
   "execution_count": 13,
   "id": "787ff73f-fe8d-4593-b2a7-7a966d96e3a6",
   "metadata": {},
   "outputs": [
    {
     "name": "stdout",
     "output_type": "stream",
     "text": [
      "[2.86400367 0.94268424]\n",
      "[[ 0.0073402  -0.00359651]\n",
      " [-0.00359651  0.00476957]]\n"
     ]
    }
   ],
   "source": [
    "# Average effects across users: mean and covariance matrix\n",
    "print(ragged_meta_analyzer.mean)\n",
    "print(ragged_meta_analyzer.mean_cov)"
   ]
  },
  {
   "cell_type": "code",
   "execution_count": 14,
   "id": "e06dcb08-1a25-445b-9a67-eeec0056ccf9",
   "metadata": {},
   "outputs": [
    {
     "name": "stdout",
     "output_type": "stream",
     "text": [
      "[[0.1 0. ]\n",
      " [0.  0.1]]\n"
     ]
    }
   ],
   "source": [
    "# Estimated covariance matrix for random effects\n",
    "print(ragged_meta_analyzer.re_cov)"
   ]
  },
  {
   "cell_type": "markdown",
   "id": "96b963b9-dc2e-4aca-afd8-67d9a3e20d38",
   "metadata": {},
   "source": [
    "# Extra\n",
    "\n",
    "You can also try out the RaggedSIPWAnalyzer as an alternative to RaggedIPWAnalyzer. The former normalizes the inverse probability weights, which can (but is not guaranteed to) result in higher precision.\n",
    "\n",
    "If you only want inference at the aggregate level, just pass the same ID for everyone. If you have no variability in treatment assignments or outcomes at the user level, then you will probably need to do this (or perform some other sort of grouping).\n",
    "\n",
    "Instead of using the built-in meta-analysis method (which assumes Gaussian random effects), you're welcome to plug the estimates and their standard errors directly into your favorite meta-analysis model."
   ]
  }
 ],
 "metadata": {
  "kernelspec": {
   "display_name": "paneff",
   "language": "python",
   "name": "paneff"
  },
  "language_info": {
   "codemirror_mode": {
    "name": "ipython",
    "version": 3
   },
   "file_extension": ".py",
   "mimetype": "text/x-python",
   "name": "python",
   "nbconvert_exporter": "python",
   "pygments_lexer": "ipython3",
   "version": "3.13.2"
  }
 },
 "nbformat": 4,
 "nbformat_minor": 5
}
