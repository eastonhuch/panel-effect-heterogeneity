{
 "cells": [
  {
   "cell_type": "code",
   "execution_count": 1,
   "id": "4c21bf1a-0c2e-43a1-8b93-7e9245f0aafc",
   "metadata": {},
   "outputs": [],
   "source": [
    "from shared.simulators import ConstantEffectSimulator, ModeratedEffectSimulator, DataSimulator\n",
    "import matplotlib.pyplot as plt"
   ]
  },
  {
   "cell_type": "code",
   "execution_count": 2,
   "id": "2fbf2009-8b37-49c2-b0e5-c7973ae010d4",
   "metadata": {},
   "outputs": [],
   "source": [
    "N = 50\n",
    "T = 100\n",
    "\n",
    "no_eff = ConstantEffectSimulator(\"No Effect\", N, 0., 0., 0.).sample_params()\n",
    "shared_random_eff = ConstantEffectSimulator(\"Shared Random Effect\", N, 0., 1., 0.).sample_params()\n",
    "distinct_random_eff = ConstantEffectSimulator(\"Distinct Random Effects\", N, 0., 1., 1.).sample_params()\n",
    "noisy_distinct_random_eff = ConstantEffectSimulator(\"Distinct Random Effects\", N, 0., 1., 1., epsilon_sd=1.).sample_params()\n",
    "moderated_eff = ModeratedEffectSimulator(\"Moderated Effects\", N, 0., 1., 1., 0.5, 0.2, epsilon_sd=1.)\n",
    "effect_simulators = [no_eff, shared_random_eff, distinct_random_eff, noisy_distinct_random_eff, moderated_eff]\n",
    "\n",
    "for effect_simulator in effect_simulators:\n",
    "    effect_simulator.sample_params()\n",
    "    data_simulator = DataSimulator(N, T).simulate(effect_simulator)"
   ]
  },
  {
   "cell_type": "code",
   "execution_count": null,
   "id": "b0eb9ce2-c9fc-4f85-a9e2-2d1181669a03",
   "metadata": {},
   "outputs": [],
   "source": []
  }
 ],
 "metadata": {
  "kernelspec": {
   "display_name": "Python 3 (ipykernel)",
   "language": "python",
   "name": "python3"
  },
  "language_info": {
   "codemirror_mode": {
    "name": "ipython",
    "version": 3
   },
   "file_extension": ".py",
   "mimetype": "text/x-python",
   "name": "python",
   "nbconvert_exporter": "python",
   "pygments_lexer": "ipython3",
   "version": "3.10.6"
  }
 },
 "nbformat": 4,
 "nbformat_minor": 5
}
