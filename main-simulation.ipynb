{
 "cells": [
  {
   "cell_type": "code",
   "execution_count": 1,
   "id": "4c21bf1a-0c2e-43a1-8b93-7e9245f0aafc",
   "metadata": {},
   "outputs": [],
   "source": [
    "from shared.simulators import ConstantEffectSimulator, ModeratedEffectSimulator, DataSimulator, EffectsSimulatorCollection\n",
    "from shared.analyzers import FixedEffectsAnalyzer, AnalyzerCollection\n",
    "import matplotlib.pyplot as plt"
   ]
  },
  {
   "cell_type": "code",
   "execution_count": 2,
   "id": "2fbf2009-8b37-49c2-b0e5-c7973ae010d4",
   "metadata": {},
   "outputs": [],
   "source": [
    "N = 50\n",
    "T = 100\n",
    "alpha = 0.05\n",
    "\n",
    "effect_simulators = EffectsSimulatorCollection()\n",
    "effect_simulators.add_effect_simulator(ConstantEffectSimulator(\"No Effect\", N, 0., 0., 0.))\n",
    "effect_simulators.add_effect_simulator(ConstantEffectSimulator(\"Shared Random Effect\", N, 0., 1., 0.))\n",
    "effect_simulators.add_effect_simulator(ConstantEffectSimulator(\"Distinct Random Effects\", N, 0., 1., 1.))\n",
    "effect_simulators.add_effect_simulator(ConstantEffectSimulator(\"Distinct Random Effects\", N, 0., 1., 1., epsilon_sd=1.))\n",
    "effect_simulators.add_effect_simulator(ModeratedEffectSimulator(\"Moderated Effects\", N, 0., 1., 1., 0.5, 0.2, epsilon_sd=1.))\n",
    "effect_simulators.add_effect_simulator(ConstantEffectSimulator(\"No Effect\", N, 0., 0., 0.))\n",
    "\n",
    "analyzers = AnalyzerCollection()\n",
    "analyzers.add_analyzer(FixedEffectsAnalyzer(\"Fixed Effects\", alpha))\n",
    "\n",
    "for effect_simulator in effect_simulators:\n",
    "    effect_simulator.sample_params()\n",
    "    data_simulator = DataSimulator(N, T).simulate(effect_simulator)\n",
    "    for analyzer in analyzers:\n",
    "        results = analyzer.analyze(data_simulator)"
   ]
  },
  {
   "cell_type": "code",
   "execution_count": 3,
   "id": "b0eb9ce2-c9fc-4f85-a9e2-2d1181669a03",
   "metadata": {},
   "outputs": [
    {
     "data": {
      "text/plain": [
       "mean_estimate    0.001703\n",
       "mean_lower       0.001695\n",
       "mean_upper       0.001711\n",
       "dtype: float64"
      ]
     },
     "execution_count": 3,
     "metadata": {},
     "output_type": "execute_result"
    }
   ],
   "source": [
    "results.get_mean_series()"
   ]
  }
 ],
 "metadata": {
  "kernelspec": {
   "display_name": "Python 3 (ipykernel)",
   "language": "python",
   "name": "python3"
  },
  "language_info": {
   "codemirror_mode": {
    "name": "ipython",
    "version": 3
   },
   "file_extension": ".py",
   "mimetype": "text/x-python",
   "name": "python",
   "nbconvert_exporter": "python",
   "pygments_lexer": "ipython3",
   "version": "3.10.6"
  }
 },
 "nbformat": 4,
 "nbformat_minor": 5
}
