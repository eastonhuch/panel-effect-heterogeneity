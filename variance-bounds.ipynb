{
 "cells": [
  {
   "cell_type": "code",
   "execution_count": 1,
   "id": "916dfd85-6a47-404e-b61e-e3a6d47f1455",
   "metadata": {},
   "outputs": [],
   "source": [
    "import numpy as np\n",
    "from shared.simulators import ConstantEffectSimulator, ModeratedEffectSimulator, DataSimulator, EffectSimulatorCollection\n",
    "from shared.analyzers import AnalyzerCollection, WLSAnalyzer, IPWAnalyzer, SIPWAnalyzer, MetaAnalyzer\n",
    "from shared.result_processors import Results\n",
    "import matplotlib.pyplot as plt"
   ]
  },
  {
   "cell_type": "code",
   "execution_count": 2,
   "id": "30185945-2214-47a8-a789-d03aadd8cde5",
   "metadata": {},
   "outputs": [],
   "source": [
    "N = 50\n",
    "T = 100\n",
    "alpha = 0.05\n",
    "n_reps = 100\n",
    "weight_type = \"ATE\"\n",
    "\n",
    "effect_simulator = ModeratedEffectSimulator(\"Noisy Moderated Effects\", N, 1., 1., 0.3, 1., 0.2, epsilon_sd=0.5)\n",
    "effect_simulator.sample_params()\n",
    "data_simulator = DataSimulator(N, T).simulate_history()\n",
    "data_simulator = data_simulator.simulate_effects(effect_simulator)\n",
    "data_simulator = data_simulator.simulate_a()"
   ]
  },
  {
   "cell_type": "code",
   "execution_count": 3,
   "id": "d0f7727e-ac50-4651-8a8d-179e9661d02d",
   "metadata": {},
   "outputs": [],
   "source": [
    "y1_1 = 1.2\n",
    "y1_0 = -0.3\n",
    "\n",
    "y2_11 = 0.7\n",
    "y2_10 = 0.7\n",
    "y2_01 = -0.8\n",
    "y2_00 = 2.4\n",
    "\n",
    "p1 = 0.6\n",
    "p2_1 = 0.7\n",
    "p2_0 = 0.8"
   ]
  },
  {
   "cell_type": "code",
   "execution_count": 4,
   "id": "4d52839e-a7af-4efe-aad1-b5b17f2f8bd9",
   "metadata": {},
   "outputs": [],
   "source": [
    "z1 = p2_1 * y2_11 + (1. - p2_1) * y2_10\n",
    "z0 = p2_0 * y2_01 + (1. - p2_0) * y2_00\n",
    "tau = z1 - z0"
   ]
  },
  {
   "cell_type": "code",
   "execution_count": 5,
   "id": "c346bc91-4137-4aa4-a195-61ad7090fc21",
   "metadata": {},
   "outputs": [],
   "source": [
    "Var_E_tauhat = ((1.-p1)*z1 + p1*z0)**2 / (p1 * (1. - p1))\n",
    "Var1 = (p2_1 * (1.-p2_1)) * (y2_11 - y2_10)**2\n",
    "Var0 = (p2_0 * (1.-p2_0)) * (y2_01 - y2_00)**2\n",
    "E_Var_tauhat = Var1/p1 + Var0/(1.-p1)\n",
    "Var_tauhat = E_Var_tauhat + Var_E_tauhat"
   ]
  },
  {
   "cell_type": "code",
   "execution_count": 6,
   "id": "4f73b47c-8b64-453c-badd-7bb7a896c019",
   "metadata": {},
   "outputs": [
    {
     "name": "stdout",
     "output_type": "stream",
     "text": [
      "tau: 0.860\n",
      "Sample mean: 0.859\n",
      "Var(tauhat): 4.237\n",
      "Sample variance: 4.238\n"
     ]
    }
   ],
   "source": [
    "nreps = 1_000_000\n",
    "tauhats = np.zeros(nreps)\n",
    "for i in range(nreps):\n",
    "    a1 = np.random.random() < p1\n",
    "    p1_a1 = p1 if a1 else 1. - p1\n",
    "    p2_a1 = p2_1 if a1 else p2_0\n",
    "    a2 = np.random.random() < p2_a1\n",
    "    if a1:\n",
    "        if a2:\n",
    "            y = y2_11\n",
    "        else:\n",
    "            y = y2_10\n",
    "    else:\n",
    "        if a2:\n",
    "            y = y2_01\n",
    "        else:\n",
    "            y = y2_00        \n",
    "    sign = 1. if a1 else -1.    \n",
    "    tauhats[i] = sign * y / p1_a1\n",
    "    \n",
    "mean_tauhat = np.mean(tauhats)\n",
    "var_tauhat = np.var(tauhats)\n",
    "print(f\"tau: {tau:.3f}\")\n",
    "print(f\"Sample mean: {mean_tauhat:.3f}\")\n",
    "print(f\"Var(tauhat): {Var_tauhat:.3f}\")\n",
    "print(f\"Sample variance: {var_tauhat:.3f}\")"
   ]
  }
 ],
 "metadata": {
  "kernelspec": {
   "display_name": "paneff",
   "language": "python",
   "name": "paneff"
  },
  "language_info": {
   "codemirror_mode": {
    "name": "ipython",
    "version": 3
   },
   "file_extension": ".py",
   "mimetype": "text/x-python",
   "name": "python",
   "nbconvert_exporter": "python",
   "pygments_lexer": "ipython3",
   "version": "3.13.2"
  }
 },
 "nbformat": 4,
 "nbformat_minor": 5
}
